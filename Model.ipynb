{
 "cells": [
  {
   "cell_type": "code",
   "execution_count": 242,
   "metadata": {
    "colab": {
     "base_uri": "https://localhost:8080/",
     "height": 120
    },
    "colab_type": "code",
    "id": "46B5BxLKuyk7",
    "outputId": "37e3fe21-b312-4139-fbe8-c2f21cb96371"
   },
   "outputs": [],
   "source": [
    "import sqlite3\n",
    "import matplotlib\n",
    "import pandas as pd\n",
    "import seaborn as sns\n",
    "import numpy as np\n",
    "import matplotlib.pyplot as plt\n",
    "from mlxtend.plotting import plot_confusion_matrix\n",
    "import utility as util\n",
    "from sklearn.metrics import confusion_matrix"
   ]
  },
  {
   "cell_type": "code",
   "execution_count": 243,
   "metadata": {
    "colab": {},
    "colab_type": "code",
    "id": "b1g8-Uoku4b0"
   },
   "outputs": [],
   "source": [
    "from sklearn.model_selection import train_test_split"
   ]
  },
  {
   "cell_type": "code",
   "execution_count": 245,
   "metadata": {},
   "outputs": [
    {
     "data": {
      "text/html": [
       "<div>\n",
       "<style scoped>\n",
       "    .dataframe tbody tr th:only-of-type {\n",
       "        vertical-align: middle;\n",
       "    }\n",
       "\n",
       "    .dataframe tbody tr th {\n",
       "        vertical-align: top;\n",
       "    }\n",
       "\n",
       "    .dataframe thead th {\n",
       "        text-align: right;\n",
       "    }\n",
       "</style>\n",
       "<table border=\"1\" class=\"dataframe\">\n",
       "  <thead>\n",
       "    <tr style=\"text-align: right;\">\n",
       "      <th></th>\n",
       "      <th>Unnamed: 0</th>\n",
       "      <th>sum_los</th>\n",
       "      <th>HADM_ID</th>\n",
       "      <th>los_bin</th>\n",
       "    </tr>\n",
       "  </thead>\n",
       "  <tbody>\n",
       "    <tr>\n",
       "      <td>0</td>\n",
       "      <td>0</td>\n",
       "      <td>0.3638</td>\n",
       "      <td>100023</td>\n",
       "      <td>0</td>\n",
       "    </tr>\n",
       "    <tr>\n",
       "      <td>1</td>\n",
       "      <td>1</td>\n",
       "      <td>3.0070</td>\n",
       "      <td>100025</td>\n",
       "      <td>0</td>\n",
       "    </tr>\n",
       "    <tr>\n",
       "      <td>2</td>\n",
       "      <td>2</td>\n",
       "      <td>30.5118</td>\n",
       "      <td>100029</td>\n",
       "      <td>1</td>\n",
       "    </tr>\n",
       "    <tr>\n",
       "      <td>3</td>\n",
       "      <td>3</td>\n",
       "      <td>65.7146</td>\n",
       "      <td>100044</td>\n",
       "      <td>1</td>\n",
       "    </tr>\n",
       "    <tr>\n",
       "      <td>4</td>\n",
       "      <td>4</td>\n",
       "      <td>3.9160</td>\n",
       "      <td>100055</td>\n",
       "      <td>0</td>\n",
       "    </tr>\n",
       "    <tr>\n",
       "      <td>...</td>\n",
       "      <td>...</td>\n",
       "      <td>...</td>\n",
       "      <td>...</td>\n",
       "      <td>...</td>\n",
       "    </tr>\n",
       "    <tr>\n",
       "      <td>7987</td>\n",
       "      <td>7987</td>\n",
       "      <td>48.2892</td>\n",
       "      <td>199913</td>\n",
       "      <td>1</td>\n",
       "    </tr>\n",
       "    <tr>\n",
       "      <td>7988</td>\n",
       "      <td>7988</td>\n",
       "      <td>19.3016</td>\n",
       "      <td>199917</td>\n",
       "      <td>0</td>\n",
       "    </tr>\n",
       "    <tr>\n",
       "      <td>7989</td>\n",
       "      <td>7989</td>\n",
       "      <td>103.9422</td>\n",
       "      <td>199918</td>\n",
       "      <td>1</td>\n",
       "    </tr>\n",
       "    <tr>\n",
       "      <td>7990</td>\n",
       "      <td>7990</td>\n",
       "      <td>0.1066</td>\n",
       "      <td>199954</td>\n",
       "      <td>0</td>\n",
       "    </tr>\n",
       "    <tr>\n",
       "      <td>7991</td>\n",
       "      <td>7991</td>\n",
       "      <td>0.9354</td>\n",
       "      <td>199973</td>\n",
       "      <td>0</td>\n",
       "    </tr>\n",
       "  </tbody>\n",
       "</table>\n",
       "<p>7992 rows × 4 columns</p>\n",
       "</div>"
      ],
      "text/plain": [
       "      Unnamed: 0   sum_los  HADM_ID  los_bin\n",
       "0              0    0.3638   100023        0\n",
       "1              1    3.0070   100025        0\n",
       "2              2   30.5118   100029        1\n",
       "3              3   65.7146   100044        1\n",
       "4              4    3.9160   100055        0\n",
       "...          ...       ...      ...      ...\n",
       "7987        7987   48.2892   199913        1\n",
       "7988        7988   19.3016   199917        0\n",
       "7989        7989  103.9422   199918        1\n",
       "7990        7990    0.1066   199954        0\n",
       "7991        7991    0.9354   199973        0\n",
       "\n",
       "[7992 rows x 4 columns]"
      ]
     },
     "execution_count": 245,
     "metadata": {},
     "output_type": "execute_result"
    }
   ],
   "source": [
    "features = pd.read_csv('neo_los_basic_df.csv')\n",
    "features"
   ]
  },
  {
   "cell_type": "code",
   "execution_count": 246,
   "metadata": {},
   "outputs": [],
   "source": [
    "new_feat = pd.read_csv('ANIONGAP_max_score.csv')\n",
    "features = util.merge(features,new_feat,'left', 'HADM_ID')\n",
    "new_feat = pd.read_csv('ANIONGAP_min_score.csv')\n",
    "features = util.merge(features,new_feat,'left', 'HADM_ID')"
   ]
  },
  {
   "cell_type": "code",
   "execution_count": 247,
   "metadata": {},
   "outputs": [],
   "source": [
    "#new_feat = pd.read_csv('apgar_score.csv')\n",
    "#features = util.merge(features,new_feat,'left', 'HADM_ID')"
   ]
  },
  {
   "cell_type": "code",
   "execution_count": 248,
   "metadata": {},
   "outputs": [],
   "source": [
    "new_feat = pd.read_csv('BANDS_max_score.csv')\n",
    "features = util.merge(features,new_feat,'left', 'HADM_ID')\n",
    "new_feat = pd.read_csv('BANDS_min_score.csv')\n",
    "features = util.merge(features,new_feat,'left', 'HADM_ID')"
   ]
  },
  {
   "cell_type": "code",
   "execution_count": 249,
   "metadata": {},
   "outputs": [],
   "source": [
    "new_feat = pd.read_csv('bicarbonate_max_score.csv')\n",
    "features = util.merge(features,new_feat,'left', 'HADM_ID')\n",
    "new_feat = pd.read_csv('bicarbonate_min_score.csv')\n",
    "features = util.merge(features,new_feat,'left', 'HADM_ID')"
   ]
  },
  {
   "cell_type": "code",
   "execution_count": 250,
   "metadata": {},
   "outputs": [],
   "source": [
    "new_feat = pd.read_csv('bilirubin_avg_score.csv')\n",
    "features = util.merge(features,new_feat,'left', 'HADM_ID')"
   ]
  },
  {
   "cell_type": "code",
   "execution_count": 251,
   "metadata": {},
   "outputs": [],
   "source": [
    "#new_feat = pd.read_csv('birth_weight.csv')\n",
    "#features = util.merge(features,new_feat,'left', 'HADM_ID')"
   ]
  },
  {
   "cell_type": "code",
   "execution_count": null,
   "metadata": {},
   "outputs": [],
   "source": []
  },
  {
   "cell_type": "code",
   "execution_count": 252,
   "metadata": {},
   "outputs": [],
   "source": [
    "new_feat = pd.read_csv('BUN_max_score.csv')\n",
    "features = util.merge(features,new_feat,'left', 'HADM_ID')\n",
    "new_feat = pd.read_csv('BUN_min_score.csv')\n",
    "features = util.merge(features,new_feat,'left', 'HADM_ID')"
   ]
  },
  {
   "cell_type": "code",
   "execution_count": 253,
   "metadata": {
    "colab": {},
    "colab_type": "code",
    "id": "rWlMEN9su0fF"
   },
   "outputs": [],
   "source": [
    "new_feat = pd.read_csv('CHLORIDE_max_score.csv')\n",
    "features = util.merge(features,new_feat,'left', 'HADM_ID')\n",
    "new_feat = pd.read_csv('CHLORIDE_min_score.csv')\n",
    "features = util.merge(features,new_feat,'left', 'HADM_ID')"
   ]
  },
  {
   "cell_type": "code",
   "execution_count": 254,
   "metadata": {},
   "outputs": [],
   "source": [
    "new_feat = pd.read_csv('co2_score.csv')\n",
    "features = util.merge(features,new_feat,'left', 'HADM_ID')\n"
   ]
  },
  {
   "cell_type": "code",
   "execution_count": 255,
   "metadata": {},
   "outputs": [],
   "source": [
    "new_feat = pd.read_csv('creatinine_avg_score.csv')\n",
    "features = util.merge(features,new_feat,'left', 'HADM_ID')"
   ]
  },
  {
   "cell_type": "code",
   "execution_count": 256,
   "metadata": {},
   "outputs": [],
   "source": [
    "new_feat = pd.read_csv('glucose_max_score.csv')\n",
    "features = util.merge(features,new_feat,'left', 'HADM_ID')\n",
    "new_feat = pd.read_csv('glucose_min_score.csv')\n",
    "features = util.merge(features,new_feat,'left', 'HADM_ID')"
   ]
  },
  {
   "cell_type": "code",
   "execution_count": 257,
   "metadata": {},
   "outputs": [],
   "source": [
    "new_feat = pd.read_csv('hematocrit_max_score.csv')\n",
    "features = util.merge(features,new_feat,'left', 'HADM_ID')\n",
    "new_feat = pd.read_csv('hematocrit_min_score.csv')\n",
    "features = util.merge(features,new_feat,'left', 'HADM_ID')\n"
   ]
  },
  {
   "cell_type": "code",
   "execution_count": 258,
   "metadata": {},
   "outputs": [],
   "source": [
    "new_feat = pd.read_csv('o2_score.csv')\n",
    "features = util.merge(features,new_feat,'left', 'HADM_ID')\n"
   ]
  },
  {
   "cell_type": "code",
   "execution_count": 259,
   "metadata": {},
   "outputs": [],
   "source": [
    "new_feat = pd.read_csv('platelet_avg_score.csv')\n",
    "features = util.merge(features,new_feat,'left', 'HADM_ID')"
   ]
  },
  {
   "cell_type": "code",
   "execution_count": 260,
   "metadata": {},
   "outputs": [],
   "source": [
    "new_feat = pd.read_csv('potassium_max_score.csv')\n",
    "features = util.merge(features,new_feat,'left', 'HADM_ID')\n",
    "new_feat = pd.read_csv('potassium_min_score.csv')\n",
    "features = util.merge(features,new_feat,'left', 'HADM_ID')\n"
   ]
  },
  {
   "cell_type": "code",
   "execution_count": 261,
   "metadata": {},
   "outputs": [],
   "source": [
    "new_feat = pd.read_csv('potassium_max_score.csv')\n",
    "features = util.merge(features,new_feat,'left', 'HADM_ID')\n",
    "new_feat = pd.read_csv('potassium_min_score.csv')\n",
    "features = util.merge(features,new_feat,'left', 'HADM_ID')\n"
   ]
  },
  {
   "cell_type": "code",
   "execution_count": 262,
   "metadata": {},
   "outputs": [],
   "source": [
    "new_feat = pd.read_csv('PT_max_score.csv')\n",
    "features = util.merge(features,new_feat,'left', 'HADM_ID')\n",
    "new_feat = pd.read_csv('PT_min_score.csv')\n",
    "features = util.merge(features,new_feat,'left', 'HADM_ID')\n"
   ]
  },
  {
   "cell_type": "code",
   "execution_count": 263,
   "metadata": {},
   "outputs": [],
   "source": [
    "new_feat = pd.read_csv('PTT_max_score.csv')\n",
    "features = util.merge(features,new_feat,'left', 'HADM_ID')\n",
    "new_feat = pd.read_csv('PTT_min_score.csv')\n",
    "features = util.merge(features,new_feat,'left', 'HADM_ID')\n"
   ]
  },
  {
   "cell_type": "code",
   "execution_count": 264,
   "metadata": {},
   "outputs": [],
   "source": [
    "new_feat = pd.read_csv('resp_rate_score.csv')\n",
    "features = util.merge(features,new_feat,'left', 'HADM_ID')"
   ]
  },
  {
   "cell_type": "code",
   "execution_count": 265,
   "metadata": {},
   "outputs": [],
   "source": [
    "new_feat = pd.read_csv('sodium_max_score.csv')\n",
    "#new_feat\n",
    "features = util.merge(features,new_feat,'left', 'HADM_ID')\n",
    "new_feat = pd.read_csv('sodium_min_score.csv')\n",
    "#new_feat\n",
    "features = util.merge(features,new_feat,'left', 'HADM_ID')\n",
    "#features"
   ]
  },
  {
   "cell_type": "code",
   "execution_count": 266,
   "metadata": {},
   "outputs": [],
   "source": [
    "new_feat = pd.read_csv('urine_output_score_new.csv')\n",
    "features = util.merge(features,new_feat,'left', 'HADM_ID')"
   ]
  },
  {
   "cell_type": "code",
   "execution_count": null,
   "metadata": {},
   "outputs": [],
   "source": []
  },
  {
   "cell_type": "code",
   "execution_count": 267,
   "metadata": {},
   "outputs": [],
   "source": [
    "features = features.fillna(1)"
   ]
  },
  {
   "cell_type": "code",
   "execution_count": 268,
   "metadata": {},
   "outputs": [
    {
     "data": {
      "text/html": [
       "<div>\n",
       "<style scoped>\n",
       "    .dataframe tbody tr th:only-of-type {\n",
       "        vertical-align: middle;\n",
       "    }\n",
       "\n",
       "    .dataframe tbody tr th {\n",
       "        vertical-align: top;\n",
       "    }\n",
       "\n",
       "    .dataframe thead th {\n",
       "        text-align: right;\n",
       "    }\n",
       "</style>\n",
       "<table border=\"1\" class=\"dataframe\">\n",
       "  <thead>\n",
       "    <tr style=\"text-align: right;\">\n",
       "      <th></th>\n",
       "      <th>Unnamed: 0</th>\n",
       "      <th>HADM_ID</th>\n",
       "      <th>apgar_score</th>\n",
       "    </tr>\n",
       "  </thead>\n",
       "  <tbody>\n",
       "    <tr>\n",
       "      <td>0</td>\n",
       "      <td>0</td>\n",
       "      <td>100025</td>\n",
       "      <td>8</td>\n",
       "    </tr>\n",
       "    <tr>\n",
       "      <td>1</td>\n",
       "      <td>1</td>\n",
       "      <td>100029</td>\n",
       "      <td>2</td>\n",
       "    </tr>\n",
       "    <tr>\n",
       "      <td>2</td>\n",
       "      <td>3</td>\n",
       "      <td>100044</td>\n",
       "      <td>8</td>\n",
       "    </tr>\n",
       "    <tr>\n",
       "      <td>3</td>\n",
       "      <td>4</td>\n",
       "      <td>100062</td>\n",
       "      <td>3</td>\n",
       "    </tr>\n",
       "    <tr>\n",
       "      <td>4</td>\n",
       "      <td>5</td>\n",
       "      <td>100079</td>\n",
       "      <td>9</td>\n",
       "    </tr>\n",
       "    <tr>\n",
       "      <td>...</td>\n",
       "      <td>...</td>\n",
       "      <td>...</td>\n",
       "      <td>...</td>\n",
       "    </tr>\n",
       "    <tr>\n",
       "      <td>7206</td>\n",
       "      <td>8431</td>\n",
       "      <td>198702</td>\n",
       "      <td>2</td>\n",
       "    </tr>\n",
       "    <tr>\n",
       "      <td>7207</td>\n",
       "      <td>8432</td>\n",
       "      <td>198876</td>\n",
       "      <td>8</td>\n",
       "    </tr>\n",
       "    <tr>\n",
       "      <td>7208</td>\n",
       "      <td>8433</td>\n",
       "      <td>198892</td>\n",
       "      <td>9</td>\n",
       "    </tr>\n",
       "    <tr>\n",
       "      <td>7209</td>\n",
       "      <td>8434</td>\n",
       "      <td>199319</td>\n",
       "      <td>9</td>\n",
       "    </tr>\n",
       "    <tr>\n",
       "      <td>7210</td>\n",
       "      <td>8435</td>\n",
       "      <td>199410</td>\n",
       "      <td>7</td>\n",
       "    </tr>\n",
       "  </tbody>\n",
       "</table>\n",
       "<p>7211 rows × 3 columns</p>\n",
       "</div>"
      ],
      "text/plain": [
       "      Unnamed: 0  HADM_ID  apgar_score\n",
       "0              0   100025            8\n",
       "1              1   100029            2\n",
       "2              3   100044            8\n",
       "3              4   100062            3\n",
       "4              5   100079            9\n",
       "...          ...      ...          ...\n",
       "7206        8431   198702            2\n",
       "7207        8432   198876            8\n",
       "7208        8433   198892            9\n",
       "7209        8434   199319            9\n",
       "7210        8435   199410            7\n",
       "\n",
       "[7211 rows x 3 columns]"
      ]
     },
     "execution_count": 268,
     "metadata": {},
     "output_type": "execute_result"
    }
   ],
   "source": [
    "new_feat = pd.read_csv('apgar_score.csv')\n",
    "new_feat"
   ]
  },
  {
   "cell_type": "code",
   "execution_count": 269,
   "metadata": {},
   "outputs": [],
   "source": [
    "new_feat = pd.read_csv('apgar_score.csv')\n",
    "features = util.merge(features,new_feat,'left', 'HADM_ID')\n",
    "#new_feat = pd.read_csv('anesthesiaflag.csv')\n",
    "#features = util.merge(features,new_feat,'left', 'HADM_ID')\n",
    "new_feat = pd.read_csv('birth_weight.csv')\n",
    "features = util.merge(features,new_feat,'left', 'HADM_ID')\n",
    "features['apgar_score'] = features['apgar_score'].fillna(np.mean(features['apgar_score']))\n",
    "#features['anesthesiaflag'] = features['anesthesiaflag'].fillna(0)\n",
    "features['birth_weight'] = features['birth_weight'].fillna(np.mean(features['birth_weight']))\n"
   ]
  },
  {
   "cell_type": "code",
   "execution_count": 270,
   "metadata": {},
   "outputs": [
    {
     "data": {
      "text/html": [
       "<div>\n",
       "<style scoped>\n",
       "    .dataframe tbody tr th:only-of-type {\n",
       "        vertical-align: middle;\n",
       "    }\n",
       "\n",
       "    .dataframe tbody tr th {\n",
       "        vertical-align: top;\n",
       "    }\n",
       "\n",
       "    .dataframe thead th {\n",
       "        text-align: right;\n",
       "    }\n",
       "</style>\n",
       "<table border=\"1\" class=\"dataframe\">\n",
       "  <thead>\n",
       "    <tr style=\"text-align: right;\">\n",
       "      <th></th>\n",
       "      <th>Unnamed: 0</th>\n",
       "      <th>sum_los</th>\n",
       "      <th>HADM_ID</th>\n",
       "      <th>los_bin</th>\n",
       "      <th>ANIONGAP_max_score</th>\n",
       "      <th>ANIONGAP_min_score</th>\n",
       "      <th>BANDS_max_score</th>\n",
       "      <th>BANDS_min_score</th>\n",
       "      <th>bicarbonate_max_score</th>\n",
       "      <th>bicarbonate_min_score</th>\n",
       "      <th>...</th>\n",
       "      <th>PTT_min_score</th>\n",
       "      <th>SUBJECT_ID</th>\n",
       "      <th>30readflag</th>\n",
       "      <th>resp_rate_score</th>\n",
       "      <th>sodium_max_score</th>\n",
       "      <th>sodium_min_score</th>\n",
       "      <th>Unnamed: 0.1</th>\n",
       "      <th>urine_output_score</th>\n",
       "      <th>apgar_score</th>\n",
       "      <th>birth_weight</th>\n",
       "    </tr>\n",
       "  </thead>\n",
       "  <tbody>\n",
       "    <tr>\n",
       "      <td>0</td>\n",
       "      <td>0</td>\n",
       "      <td>0.3638</td>\n",
       "      <td>100023</td>\n",
       "      <td>0</td>\n",
       "      <td>1.0</td>\n",
       "      <td>1.0</td>\n",
       "      <td>3.0</td>\n",
       "      <td>3.0</td>\n",
       "      <td>1.0</td>\n",
       "      <td>1.0</td>\n",
       "      <td>...</td>\n",
       "      <td>1.0</td>\n",
       "      <td>1189.0</td>\n",
       "      <td>0.0</td>\n",
       "      <td>1.0</td>\n",
       "      <td>1.0</td>\n",
       "      <td>1.0</td>\n",
       "      <td>0.0</td>\n",
       "      <td>1.0</td>\n",
       "      <td>7.221745</td>\n",
       "      <td>2154.175042</td>\n",
       "    </tr>\n",
       "    <tr>\n",
       "      <td>1</td>\n",
       "      <td>1</td>\n",
       "      <td>3.0070</td>\n",
       "      <td>100025</td>\n",
       "      <td>0</td>\n",
       "      <td>1.0</td>\n",
       "      <td>1.0</td>\n",
       "      <td>1.0</td>\n",
       "      <td>1.0</td>\n",
       "      <td>1.0</td>\n",
       "      <td>1.0</td>\n",
       "      <td>...</td>\n",
       "      <td>1.0</td>\n",
       "      <td>4528.0</td>\n",
       "      <td>0.0</td>\n",
       "      <td>1.0</td>\n",
       "      <td>1.0</td>\n",
       "      <td>1.0</td>\n",
       "      <td>1.0</td>\n",
       "      <td>1.0</td>\n",
       "      <td>8.000000</td>\n",
       "      <td>3885.000000</td>\n",
       "    </tr>\n",
       "    <tr>\n",
       "      <td>2</td>\n",
       "      <td>2</td>\n",
       "      <td>30.5118</td>\n",
       "      <td>100029</td>\n",
       "      <td>1</td>\n",
       "      <td>1.0</td>\n",
       "      <td>1.0</td>\n",
       "      <td>1.0</td>\n",
       "      <td>1.0</td>\n",
       "      <td>1.0</td>\n",
       "      <td>1.0</td>\n",
       "      <td>...</td>\n",
       "      <td>1.0</td>\n",
       "      <td>14509.0</td>\n",
       "      <td>0.0</td>\n",
       "      <td>1.0</td>\n",
       "      <td>1.0</td>\n",
       "      <td>1.0</td>\n",
       "      <td>2.0</td>\n",
       "      <td>3.0</td>\n",
       "      <td>2.000000</td>\n",
       "      <td>2125.000000</td>\n",
       "    </tr>\n",
       "    <tr>\n",
       "      <td>3</td>\n",
       "      <td>3</td>\n",
       "      <td>65.7146</td>\n",
       "      <td>100044</td>\n",
       "      <td>1</td>\n",
       "      <td>3.0</td>\n",
       "      <td>3.0</td>\n",
       "      <td>1.0</td>\n",
       "      <td>1.0</td>\n",
       "      <td>3.0</td>\n",
       "      <td>3.0</td>\n",
       "      <td>...</td>\n",
       "      <td>1.0</td>\n",
       "      <td>677.0</td>\n",
       "      <td>0.0</td>\n",
       "      <td>1.0</td>\n",
       "      <td>1.0</td>\n",
       "      <td>3.0</td>\n",
       "      <td>3.0</td>\n",
       "      <td>3.0</td>\n",
       "      <td>8.000000</td>\n",
       "      <td>2154.175042</td>\n",
       "    </tr>\n",
       "    <tr>\n",
       "      <td>4</td>\n",
       "      <td>4</td>\n",
       "      <td>3.9160</td>\n",
       "      <td>100055</td>\n",
       "      <td>0</td>\n",
       "      <td>1.0</td>\n",
       "      <td>1.0</td>\n",
       "      <td>3.0</td>\n",
       "      <td>3.0</td>\n",
       "      <td>1.0</td>\n",
       "      <td>1.0</td>\n",
       "      <td>...</td>\n",
       "      <td>1.0</td>\n",
       "      <td>1549.0</td>\n",
       "      <td>0.0</td>\n",
       "      <td>1.0</td>\n",
       "      <td>1.0</td>\n",
       "      <td>1.0</td>\n",
       "      <td>4.0</td>\n",
       "      <td>3.0</td>\n",
       "      <td>7.221745</td>\n",
       "      <td>3120.000000</td>\n",
       "    </tr>\n",
       "    <tr>\n",
       "      <td>...</td>\n",
       "      <td>...</td>\n",
       "      <td>...</td>\n",
       "      <td>...</td>\n",
       "      <td>...</td>\n",
       "      <td>...</td>\n",
       "      <td>...</td>\n",
       "      <td>...</td>\n",
       "      <td>...</td>\n",
       "      <td>...</td>\n",
       "      <td>...</td>\n",
       "      <td>...</td>\n",
       "      <td>...</td>\n",
       "      <td>...</td>\n",
       "      <td>...</td>\n",
       "      <td>...</td>\n",
       "      <td>...</td>\n",
       "      <td>...</td>\n",
       "      <td>...</td>\n",
       "      <td>...</td>\n",
       "      <td>...</td>\n",
       "      <td>...</td>\n",
       "    </tr>\n",
       "    <tr>\n",
       "      <td>7987</td>\n",
       "      <td>7987</td>\n",
       "      <td>48.2892</td>\n",
       "      <td>199913</td>\n",
       "      <td>1</td>\n",
       "      <td>3.0</td>\n",
       "      <td>3.0</td>\n",
       "      <td>1.0</td>\n",
       "      <td>1.0</td>\n",
       "      <td>3.0</td>\n",
       "      <td>3.0</td>\n",
       "      <td>...</td>\n",
       "      <td>1.0</td>\n",
       "      <td>13756.0</td>\n",
       "      <td>0.0</td>\n",
       "      <td>1.0</td>\n",
       "      <td>1.0</td>\n",
       "      <td>3.0</td>\n",
       "      <td>7456.0</td>\n",
       "      <td>3.0</td>\n",
       "      <td>8.000000</td>\n",
       "      <td>2154.175042</td>\n",
       "    </tr>\n",
       "    <tr>\n",
       "      <td>7988</td>\n",
       "      <td>7988</td>\n",
       "      <td>19.3016</td>\n",
       "      <td>199917</td>\n",
       "      <td>0</td>\n",
       "      <td>3.0</td>\n",
       "      <td>3.0</td>\n",
       "      <td>3.0</td>\n",
       "      <td>3.0</td>\n",
       "      <td>3.0</td>\n",
       "      <td>3.0</td>\n",
       "      <td>...</td>\n",
       "      <td>1.0</td>\n",
       "      <td>3077.0</td>\n",
       "      <td>0.0</td>\n",
       "      <td>1.0</td>\n",
       "      <td>1.0</td>\n",
       "      <td>3.0</td>\n",
       "      <td>7457.0</td>\n",
       "      <td>3.0</td>\n",
       "      <td>3.000000</td>\n",
       "      <td>2154.175042</td>\n",
       "    </tr>\n",
       "    <tr>\n",
       "      <td>7989</td>\n",
       "      <td>7989</td>\n",
       "      <td>103.9422</td>\n",
       "      <td>199918</td>\n",
       "      <td>1</td>\n",
       "      <td>3.0</td>\n",
       "      <td>3.0</td>\n",
       "      <td>1.0</td>\n",
       "      <td>1.0</td>\n",
       "      <td>3.0</td>\n",
       "      <td>3.0</td>\n",
       "      <td>...</td>\n",
       "      <td>1.0</td>\n",
       "      <td>25768.0</td>\n",
       "      <td>0.0</td>\n",
       "      <td>1.0</td>\n",
       "      <td>1.0</td>\n",
       "      <td>3.0</td>\n",
       "      <td>7458.0</td>\n",
       "      <td>3.0</td>\n",
       "      <td>8.000000</td>\n",
       "      <td>1345.000000</td>\n",
       "    </tr>\n",
       "    <tr>\n",
       "      <td>7990</td>\n",
       "      <td>7990</td>\n",
       "      <td>0.1066</td>\n",
       "      <td>199954</td>\n",
       "      <td>0</td>\n",
       "      <td>1.0</td>\n",
       "      <td>1.0</td>\n",
       "      <td>1.0</td>\n",
       "      <td>1.0</td>\n",
       "      <td>1.0</td>\n",
       "      <td>1.0</td>\n",
       "      <td>...</td>\n",
       "      <td>1.0</td>\n",
       "      <td>13446.0</td>\n",
       "      <td>0.0</td>\n",
       "      <td>1.0</td>\n",
       "      <td>1.0</td>\n",
       "      <td>1.0</td>\n",
       "      <td>7459.0</td>\n",
       "      <td>1.0</td>\n",
       "      <td>7.000000</td>\n",
       "      <td>2154.175042</td>\n",
       "    </tr>\n",
       "    <tr>\n",
       "      <td>7991</td>\n",
       "      <td>7991</td>\n",
       "      <td>0.9354</td>\n",
       "      <td>199973</td>\n",
       "      <td>0</td>\n",
       "      <td>1.0</td>\n",
       "      <td>1.0</td>\n",
       "      <td>1.0</td>\n",
       "      <td>1.0</td>\n",
       "      <td>1.0</td>\n",
       "      <td>1.0</td>\n",
       "      <td>...</td>\n",
       "      <td>1.0</td>\n",
       "      <td>15400.0</td>\n",
       "      <td>0.0</td>\n",
       "      <td>1.0</td>\n",
       "      <td>1.0</td>\n",
       "      <td>1.0</td>\n",
       "      <td>7460.0</td>\n",
       "      <td>1.0</td>\n",
       "      <td>9.000000</td>\n",
       "      <td>2154.175042</td>\n",
       "    </tr>\n",
       "  </tbody>\n",
       "</table>\n",
       "<p>7992 rows × 38 columns</p>\n",
       "</div>"
      ],
      "text/plain": [
       "      Unnamed: 0   sum_los  HADM_ID  los_bin  ANIONGAP_max_score  \\\n",
       "0              0    0.3638   100023        0                 1.0   \n",
       "1              1    3.0070   100025        0                 1.0   \n",
       "2              2   30.5118   100029        1                 1.0   \n",
       "3              3   65.7146   100044        1                 3.0   \n",
       "4              4    3.9160   100055        0                 1.0   \n",
       "...          ...       ...      ...      ...                 ...   \n",
       "7987        7987   48.2892   199913        1                 3.0   \n",
       "7988        7988   19.3016   199917        0                 3.0   \n",
       "7989        7989  103.9422   199918        1                 3.0   \n",
       "7990        7990    0.1066   199954        0                 1.0   \n",
       "7991        7991    0.9354   199973        0                 1.0   \n",
       "\n",
       "      ANIONGAP_min_score  BANDS_max_score  BANDS_min_score  \\\n",
       "0                    1.0              3.0              3.0   \n",
       "1                    1.0              1.0              1.0   \n",
       "2                    1.0              1.0              1.0   \n",
       "3                    3.0              1.0              1.0   \n",
       "4                    1.0              3.0              3.0   \n",
       "...                  ...              ...              ...   \n",
       "7987                 3.0              1.0              1.0   \n",
       "7988                 3.0              3.0              3.0   \n",
       "7989                 3.0              1.0              1.0   \n",
       "7990                 1.0              1.0              1.0   \n",
       "7991                 1.0              1.0              1.0   \n",
       "\n",
       "      bicarbonate_max_score  bicarbonate_min_score  ...  PTT_min_score  \\\n",
       "0                       1.0                    1.0  ...            1.0   \n",
       "1                       1.0                    1.0  ...            1.0   \n",
       "2                       1.0                    1.0  ...            1.0   \n",
       "3                       3.0                    3.0  ...            1.0   \n",
       "4                       1.0                    1.0  ...            1.0   \n",
       "...                     ...                    ...  ...            ...   \n",
       "7987                    3.0                    3.0  ...            1.0   \n",
       "7988                    3.0                    3.0  ...            1.0   \n",
       "7989                    3.0                    3.0  ...            1.0   \n",
       "7990                    1.0                    1.0  ...            1.0   \n",
       "7991                    1.0                    1.0  ...            1.0   \n",
       "\n",
       "      SUBJECT_ID  30readflag  resp_rate_score  sodium_max_score  \\\n",
       "0         1189.0         0.0              1.0               1.0   \n",
       "1         4528.0         0.0              1.0               1.0   \n",
       "2        14509.0         0.0              1.0               1.0   \n",
       "3          677.0         0.0              1.0               1.0   \n",
       "4         1549.0         0.0              1.0               1.0   \n",
       "...          ...         ...              ...               ...   \n",
       "7987     13756.0         0.0              1.0               1.0   \n",
       "7988      3077.0         0.0              1.0               1.0   \n",
       "7989     25768.0         0.0              1.0               1.0   \n",
       "7990     13446.0         0.0              1.0               1.0   \n",
       "7991     15400.0         0.0              1.0               1.0   \n",
       "\n",
       "      sodium_min_score  Unnamed: 0.1  urine_output_score  apgar_score  \\\n",
       "0                  1.0           0.0                 1.0     7.221745   \n",
       "1                  1.0           1.0                 1.0     8.000000   \n",
       "2                  1.0           2.0                 3.0     2.000000   \n",
       "3                  3.0           3.0                 3.0     8.000000   \n",
       "4                  1.0           4.0                 3.0     7.221745   \n",
       "...                ...           ...                 ...          ...   \n",
       "7987               3.0        7456.0                 3.0     8.000000   \n",
       "7988               3.0        7457.0                 3.0     3.000000   \n",
       "7989               3.0        7458.0                 3.0     8.000000   \n",
       "7990               1.0        7459.0                 1.0     7.000000   \n",
       "7991               1.0        7460.0                 1.0     9.000000   \n",
       "\n",
       "      birth_weight  \n",
       "0      2154.175042  \n",
       "1      3885.000000  \n",
       "2      2125.000000  \n",
       "3      2154.175042  \n",
       "4      3120.000000  \n",
       "...            ...  \n",
       "7987   2154.175042  \n",
       "7988   2154.175042  \n",
       "7989   1345.000000  \n",
       "7990   2154.175042  \n",
       "7991   2154.175042  \n",
       "\n",
       "[7992 rows x 38 columns]"
      ]
     },
     "execution_count": 270,
     "metadata": {},
     "output_type": "execute_result"
    }
   ],
   "source": [
    "features"
   ]
  },
  {
   "cell_type": "code",
   "execution_count": 271,
   "metadata": {},
   "outputs": [
    {
     "data": {
      "text/plain": [
       "Index(['Unnamed: 0', 'sum_los', 'HADM_ID', 'los_bin', 'ANIONGAP_max_score',\n",
       "       'ANIONGAP_min_score', 'BANDS_max_score', 'BANDS_min_score',\n",
       "       'bicarbonate_max_score', 'bicarbonate_min_score', 'bilirubin_avg_score',\n",
       "       'BUN_max_score', 'BUM_min_score', 'CHLORIDE_max_score',\n",
       "       'CHLORIDE_min_score', 'co2_score', 'creatinine_avg_score',\n",
       "       'glucose_max_score', 'glucose_min_score', 'hematocrit_max_score',\n",
       "       'hematocrit_min_score', 'o2_score', 'platelet_avg_score',\n",
       "       'potassium_max_score', 'potassium_min_score', 'PT_max_score',\n",
       "       'PT_min_score', 'PTT_max_score', 'PTT_min_score', 'SUBJECT_ID',\n",
       "       '30readflag', 'resp_rate_score', 'sodium_max_score', 'sodium_min_score',\n",
       "       'Unnamed: 0.1', 'urine_output_score', 'apgar_score', 'birth_weight'],\n",
       "      dtype='object')"
      ]
     },
     "execution_count": 271,
     "metadata": {},
     "output_type": "execute_result"
    }
   ],
   "source": [
    "features = features.fillna(1)\n",
    "features.columns"
   ]
  },
  {
   "cell_type": "code",
   "execution_count": 272,
   "metadata": {},
   "outputs": [],
   "source": [
    "features = features.drop(columns = ['Unnamed: 0','sum_los','HADM_ID','SUBJECT_ID','30readflag'])"
   ]
  },
  {
   "cell_type": "code",
   "execution_count": 273,
   "metadata": {
    "colab": {},
    "colab_type": "code",
    "id": "7ACx83j7yu10"
   },
   "outputs": [],
   "source": [
    "from sklearn.metrics import accuracy_score, f1_score\n",
    "from sklearn.metrics import roc_curve, auc\n",
    "def pred_and_pred_proba(clf, X_train,X_test,y_train,y_test):\n",
    "  y_pred_train = clf.predict(X_train)\n",
    "  y_pred_train_proba = clf.predict_proba(X_train)\n",
    "  y_pred_test = clf.predict(X_test)\n",
    "  y_pred_test_proba = clf.predict_proba(X_test)\n",
    "\n",
    "  return y_pred_train,y_pred_train_proba,y_pred_test,y_pred_test_proba\n",
    "\n",
    "def plot_roc_curve(fpr, tpr):\n",
    "    plt.plot(fpr, tpr, color='orange', label='ROC')\n",
    "    plt.plot([0, 1], [0, 1], color='darkblue', linestyle='--')\n",
    "    plt.xlabel('False Positive Rate')\n",
    "    plt.ylabel('True Positive Rate')\n",
    "    plt.title('Receiver Operating Characteristic (ROC) Curve')\n",
    "    plt.legend()\n",
    "    plt.show()\n",
    "def roc_and_acc(y_pred_train,y_pred_train_proba,y_pred_test,y_pred_test_proba,y_train,y_test):\n",
    "  fpr, tpr, thresholds = roc_curve(y_train,y_pred_train_proba[:,1] )\n",
    "  plot_roc_curve(fpr, tpr)\n",
    "  print('auc train',auc(fpr, tpr))\n",
    "  print('train accuracy',accuracy_score(y_pred_train,y_train))\n",
    "\n",
    "  fpr, tpr, thresholds = roc_curve(y_test,y_pred_test_proba[:,1] )\n",
    "  plot_roc_curve(fpr, tpr)\n",
    "  print('auc test',auc(fpr, tpr))\n",
    "  print('test accuracy',accuracy_score(y_pred_test,y_test))\n",
    "  ##print(f1_score(y_train,y_pred_train))\n",
    "  ##print(f1_score(y_test,y_pred_test))\n"
   ]
  },
  {
   "cell_type": "code",
   "execution_count": 274,
   "metadata": {
    "colab": {},
    "colab_type": "code",
    "id": "5kM1-xNVzM6Y"
   },
   "outputs": [],
   "source": [
    "from mlxtend.feature_selection import SequentialFeatureSelector as SFS\n",
    "from sklearn.ensemble import RandomForestClassifier\n",
    "from sklearn.linear_model import LogisticRegression\n",
    "from sklearn.model_selection import GridSearchCV"
   ]
  },
  {
   "cell_type": "markdown",
   "metadata": {
    "colab_type": "text",
    "id": "iYXw-D4GA0dt"
   },
   "source": [
    "# Randomforest classifiers"
   ]
  },
  {
   "cell_type": "code",
   "execution_count": 275,
   "metadata": {},
   "outputs": [],
   "source": [
    "## Train in all 254 feat"
   ]
  },
  {
   "cell_type": "code",
   "execution_count": 276,
   "metadata": {},
   "outputs": [],
   "source": [
    "features.to_csv('715los.csv',index =False)"
   ]
  },
  {
   "cell_type": "code",
   "execution_count": 277,
   "metadata": {},
   "outputs": [
    {
     "name": "stdout",
     "output_type": "stream",
     "text": [
      "[0 0 1 ... 1 0 0]\n",
      "1982.0\n",
      "(6393, 32)\n"
     ]
    },
    {
     "data": {
      "text/plain": [
       "(6393,)"
      ]
     },
     "execution_count": 277,
     "metadata": {},
     "output_type": "execute_result"
    }
   ],
   "source": [
    "y=features['los_bin'].values\n",
    "#y = np.array(y,dtype = float)\n",
    "#print(y)\n",
    "\n",
    "print(y)\n",
    "x=features.drop(columns='los_bin').values\n",
    "xx = np.array(x, dtype=float)\n",
    "yy = np.array(y, dtype=float)\n",
    "print(sum(yy))\n",
    "#print(xx[0:20,:])\n",
    "#xx = xx/xx.max(axis=0)\n",
    "#print(xx[0,:])\n",
    "X_train, X_test, y_train, y_test = train_test_split(xx, yy, test_size=.2, random_state=np.random.seed(2020))\n",
    "print(X_train.shape)\n",
    "y_train.shape"
   ]
  },
  {
   "cell_type": "code",
   "execution_count": 278,
   "metadata": {
    "colab": {
     "base_uri": "https://localhost:8080/",
     "height": 640
    },
    "colab_type": "code",
    "id": "p2VCvTwuAzte",
    "outputId": "c5fabea9-d5e6-4d7b-fb5a-59e77216988a"
   },
   "outputs": [
    {
     "name": "stderr",
     "output_type": "stream",
     "text": [
      "C:\\Users\\USER\\Anaconda3\\lib\\site-packages\\sklearn\\ensemble\\forest.py:245: FutureWarning: The default value of n_estimators will change from 10 in version 0.20 to 100 in 0.22.\n",
      "  \"10 in version 0.20 to 100 in 0.22.\", FutureWarning)\n"
     ]
    },
    {
     "data": {
      "image/png": "[encoded data removed]",
      "text/plain": [
       "<Figure size 432x288 with 1 Axes>"
      ]
     },
     "metadata": {
      "needs_background": "light"
     },
     "output_type": "display_data"
    },
    {
     "name": "stdout",
     "output_type": "stream",
     "text": [
      "auc train 0.9257119235956885\n",
      "train accuracy 0.8421711246676052\n"
     ]
    },
    {
     "data": {
      "image/png": "[encoded data removed]",
      "text/plain": [
       "<Figure size 432x288 with 1 Axes>"
      ]
     },
     "metadata": {
      "needs_background": "light"
     },
     "output_type": "display_data"
    },
    {
     "name": "stdout",
     "output_type": "stream",
     "text": [
      "auc test 0.9164828738512948\n",
      "test accuracy 0.8311444652908068\n"
     ]
    }
   ],
   "source": [
    "#Randomforest = RandomForestClassifier(**gridCV.best_params_, class_weight = 'balanced')\n",
    "Randomforest = RandomForestClassifier(max_depth = 3,min_samples_split = 4,  class_weight = 'balanced')\n",
    "\n",
    "Randomforest.fit( X_train,y_train)\n",
    "y_pred_train,y_pred_train_proba,y_pred_test,y_pred_test_proba = pred_and_pred_proba(Randomforest, X_train,X_test,y_train,y_test)\n",
    "roc_and_acc(y_pred_train,y_pred_train_proba,y_pred_test,y_pred_test_proba,y_train,y_test)"
   ]
  },
  {
   "cell_type": "code",
   "execution_count": 279,
   "metadata": {},
   "outputs": [
    {
     "name": "stdout",
     "output_type": "stream",
     "text": [
      "[[3976  834]\n",
      " [ 175 1408]]\n"
     ]
    },
    {
     "data": {
      "image/png": "[encoded data removed]",
      "text/plain": [
       "<Figure size 432x288 with 1 Axes>"
      ]
     },
     "metadata": {
      "needs_background": "light"
     },
     "output_type": "display_data"
    }
   ],
   "source": [
    "print(confusion_matrix(y_train,y_pred_train))\n",
    "fig, ax = plot_confusion_matrix(conf_mat=confusion_matrix(y_train,y_pred_train))\n",
    "plt.show()"
   ]
  },
  {
   "cell_type": "code",
   "execution_count": 280,
   "metadata": {},
   "outputs": [
    {
     "name": "stdout",
     "output_type": "stream",
     "text": [
      "[[979 221]\n",
      " [ 49 350]]\n"
     ]
    },
    {
     "data": {
      "image/png": "[encoded data removed]",
      "text/plain": [
       "<Figure size 432x288 with 1 Axes>"
      ]
     },
     "metadata": {
      "needs_background": "light"
     },
     "output_type": "display_data"
    }
   ],
   "source": [
    "print(confusion_matrix(y_test,y_pred_test))\n",
    "fig, ax = plot_confusion_matrix(conf_mat=confusion_matrix(y_test,y_pred_test))\n",
    "plt.show()"
   ]
  },
  {
   "cell_type": "markdown",
   "metadata": {},
   "source": [
    "# "
   ]
  },
  {
   "cell_type": "code",
   "execution_count": null,
   "metadata": {},
   "outputs": [],
   "source": []
  },
  {
   "cell_type": "markdown",
   "metadata": {},
   "source": [
    "# logistic\n"
   ]
  },
  {
   "cell_type": "code",
   "execution_count": 281,
   "metadata": {},
   "outputs": [
    {
     "name": "stderr",
     "output_type": "stream",
     "text": [
      "C:\\Users\\USER\\Anaconda3\\lib\\site-packages\\sklearn\\linear_model\\logistic.py:432: FutureWarning: Default solver will be changed to 'lbfgs' in 0.22. Specify a solver to silence this warning.\n",
      "  FutureWarning)\n"
     ]
    },
    {
     "data": {
      "image/png": "[encoded data removed]",
      "text/plain": [
       "<Figure size 432x288 with 1 Axes>"
      ]
     },
     "metadata": {
      "needs_background": "light"
     },
     "output_type": "display_data"
    },
    {
     "name": "stdout",
     "output_type": "stream",
     "text": [
      "auc train 0.923929274529401\n",
      "train accuracy 0.8564054434537776\n"
     ]
    },
    {
     "data": {
      "image/png": "[encoded data removed]",
      "text/plain": [
       "<Figure size 432x288 with 1 Axes>"
      ]
     },
     "metadata": {
      "needs_background": "light"
     },
     "output_type": "display_data"
    },
    {
     "name": "stdout",
     "output_type": "stream",
     "text": [
      "auc test 0.9120426065162908\n",
      "test accuracy 0.8436522826766729\n"
     ]
    }
   ],
   "source": [
    "#Randomforest = RandomForestClassifier(**gridCV.best_params_, class_weight = 'balanced')\n",
    "logit = LogisticRegression( class_weight = 'balanced')\n",
    "\n",
    "logit.fit( X_train,y_train)\n",
    "y_pred_train,y_pred_train_proba,y_pred_test,y_pred_test_proba = pred_and_pred_proba(logit, X_train,X_test,y_train,y_test)\n",
    "roc_and_acc(y_pred_train,y_pred_train_proba,y_pred_test,y_pred_test_proba,y_train,y_test)"
   ]
  },
  {
   "cell_type": "code",
   "execution_count": 282,
   "metadata": {},
   "outputs": [
    {
     "data": {
      "text/plain": [
       "Index(['los_bin', 'ANIONGAP_max_score', 'ANIONGAP_min_score',\n",
       "       'BANDS_max_score', 'BANDS_min_score', 'bicarbonate_max_score',\n",
       "       'bicarbonate_min_score', 'bilirubin_avg_score', 'BUN_max_score',\n",
       "       'BUM_min_score', 'CHLORIDE_max_score', 'CHLORIDE_min_score',\n",
       "       'co2_score', 'creatinine_avg_score', 'glucose_max_score',\n",
       "       'glucose_min_score', 'hematocrit_max_score', 'hematocrit_min_score',\n",
       "       'o2_score', 'platelet_avg_score', 'potassium_max_score',\n",
       "       'potassium_min_score', 'PT_max_score', 'PT_min_score', 'PTT_max_score',\n",
       "       'PTT_min_score', 'resp_rate_score', 'sodium_max_score',\n",
       "       'sodium_min_score', 'Unnamed: 0.1', 'urine_output_score', 'apgar_score',\n",
       "       'birth_weight'],\n",
       "      dtype='object')"
      ]
     },
     "execution_count": 282,
     "metadata": {},
     "output_type": "execute_result"
    }
   ],
   "source": [
    "features.columns"
   ]
  },
  {
   "cell_type": "code",
   "execution_count": 283,
   "metadata": {},
   "outputs": [
    {
     "data": {
      "text/plain": [
       "array([[ 2.97213769e-01,  2.97213769e-01, -5.15095555e-02,\n",
       "        -5.15095555e-02,  6.53074441e-02,  6.53074441e-02,\n",
       "         4.59041257e-01,  2.42108660e-01,  2.42108660e-01,\n",
       "         4.28188070e-02,  4.28188070e-02,  5.46941361e-02,\n",
       "        -1.03927173e+00,  6.55520433e-02,  1.60601114e-02,\n",
       "        -7.73894313e-01,  6.57488902e-01,  1.91741116e-01,\n",
       "        -6.32826107e-01,  2.00219645e-01, -1.88049913e-01,\n",
       "         3.67340451e-03,  3.67340451e-03, -5.04070689e-02,\n",
       "        -5.04070689e-02, -9.36613230e-01, -3.57836314e-01,\n",
       "         2.39591690e-01, -5.35529746e-05,  1.09785124e+00,\n",
       "        -4.82966464e-02, -9.95543928e-04]])"
      ]
     },
     "execution_count": 283,
     "metadata": {},
     "output_type": "execute_result"
    }
   ],
   "source": [
    "logit.coef_"
   ]
  },
  {
   "cell_type": "code",
   "execution_count": 284,
   "metadata": {
    "colab": {
     "base_uri": "https://localhost:8080/",
     "height": 33
    },
    "colab_type": "code",
    "id": "X37D_YWSAzyM",
    "outputId": "ed145b30-4f82-4970-bb2a-d9dddabdbb42"
   },
   "outputs": [
    {
     "data": {
      "text/plain": [
       "(32,)"
      ]
     },
     "execution_count": 284,
     "metadata": {},
     "output_type": "execute_result"
    }
   ],
   "source": [
    "Randomforest.feature_importances_.shape"
   ]
  },
  {
   "cell_type": "code",
   "execution_count": null,
   "metadata": {},
   "outputs": [],
   "source": []
  },
  {
   "cell_type": "code",
   "execution_count": 285,
   "metadata": {
    "colab": {
     "base_uri": "https://localhost:8080/",
     "height": 300
    },
    "colab_type": "code",
    "id": "PQb05oBYAz4y",
    "outputId": "a04710d6-517d-4844-cbae-cefbb1559ce1"
   },
   "outputs": [
    {
     "data": {
      "text/plain": [
       "Index(['ANIONGAP_min_score', 'CHLORIDE_max_score', 'CHLORIDE_min_score',\n",
       "       'bicarbonate_min_score', 'potassium_min_score', 'urine_output_score',\n",
       "       'Unnamed: 0.1', 'birth_weight', 'BUN_max_score', 'BUM_min_score',\n",
       "       'apgar_score', 'bilirubin_avg_score', 'o2_score',\n",
       "       'hematocrit_min_score', 'BANDS_min_score', 'platelet_avg_score',\n",
       "       'BANDS_max_score', 'co2_score', 'potassium_max_score',\n",
       "       'glucose_min_score'],\n",
       "      dtype='object')"
      ]
     },
     "execution_count": 285,
     "metadata": {},
     "output_type": "execute_result"
    }
   ],
   "source": [
    "total_features_name_drop_y = features.columns[features.columns!='los_bin']\n",
    "forest_rank_index = np.argsort(Randomforest.feature_importances_)[::-1]# big to small\n",
    "total_features_name_drop_y[forest_rank_index[:20]]"
   ]
  },
  {
   "cell_type": "code",
   "execution_count": 286,
   "metadata": {
    "colab": {},
    "colab_type": "code",
    "id": "QyJe3afePJcY"
   },
   "outputs": [],
   "source": [
    "forest_top20feat_name = total_features_name_drop_y[forest_rank_index[:20]]"
   ]
  },
  {
   "cell_type": "code",
   "execution_count": 287,
   "metadata": {},
   "outputs": [
    {
     "data": {
      "text/plain": [
       "Index(['ANIONGAP_min_score', 'CHLORIDE_max_score', 'CHLORIDE_min_score',\n",
       "       'bicarbonate_min_score', 'potassium_min_score', 'urine_output_score',\n",
       "       'Unnamed: 0.1', 'birth_weight', 'BUN_max_score', 'BUM_min_score',\n",
       "       'apgar_score', 'bilirubin_avg_score', 'o2_score',\n",
       "       'hematocrit_min_score', 'BANDS_min_score', 'platelet_avg_score',\n",
       "       'BANDS_max_score', 'co2_score', 'potassium_max_score',\n",
       "       'glucose_min_score'],\n",
       "      dtype='object')"
      ]
     },
     "execution_count": 287,
     "metadata": {},
     "output_type": "execute_result"
    }
   ],
   "source": [
    "forest_top20feat_name"
   ]
  },
  {
   "cell_type": "code",
   "execution_count": 288,
   "metadata": {},
   "outputs": [],
   "source": [
    "#np.concatenate(forest_top20feat_name, np.array(['HAMD_ID','30readflag']))"
   ]
  },
  {
   "cell_type": "markdown",
   "metadata": {},
   "source": [
    "### only top 20 feat to train"
   ]
  },
  {
   "cell_type": "code",
   "execution_count": 289,
   "metadata": {},
   "outputs": [
    {
     "name": "stdout",
     "output_type": "stream",
     "text": [
      "[0 0 1 ... 1 0 0]\n",
      "1982.0\n",
      "(6393, 20)\n"
     ]
    },
    {
     "data": {
      "text/plain": [
       "(6393,)"
      ]
     },
     "execution_count": 289,
     "metadata": {},
     "output_type": "execute_result"
    }
   ],
   "source": [
    "total_features =features\n",
    "\n",
    "y=total_features['los_bin'].values\n",
    "#y = np.array(y,dtype = float)\n",
    "#print(y)\n",
    "\n",
    "print(y)\n",
    "forest_top20feat = total_features[forest_top20feat_name]\n",
    "x=forest_top20feat.values\n",
    "xx = np.array(x, dtype=float)\n",
    "yy = np.array(y, dtype=float)\n",
    "print(sum(yy))\n",
    "#print(xx[0:20,:])\n",
    "#xx = xx/xx.max(axis=0)\n",
    "#print(xx[0,:])\n",
    "X_train, X_test, y_train, y_test = train_test_split(xx, yy, test_size=.2, random_state=np.random.seed(2020))\n",
    "print(X_train.shape)\n",
    "y_train.shape"
   ]
  },
  {
   "cell_type": "code",
   "execution_count": 290,
   "metadata": {},
   "outputs": [
    {
     "name": "stderr",
     "output_type": "stream",
     "text": [
      "C:\\Users\\USER\\Anaconda3\\lib\\site-packages\\sklearn\\ensemble\\forest.py:245: FutureWarning: The default value of n_estimators will change from 10 in version 0.20 to 100 in 0.22.\n",
      "  \"10 in version 0.20 to 100 in 0.22.\", FutureWarning)\n"
     ]
    },
    {
     "data": {
      "image/png": "[encoded data removed]",
      "text/plain": [
       "<Figure size 432x288 with 1 Axes>"
      ]
     },
     "metadata": {
      "needs_background": "light"
     },
     "output_type": "display_data"
    },
    {
     "name": "stdout",
     "output_type": "stream",
     "text": [
      "auc train 0.941926432482339\n",
      "train accuracy 0.8632879712185203\n"
     ]
    },
    {
     "data": {
      "image/png": "[encoded data removed]",
      "text/plain": [
       "<Figure size 432x288 with 1 Axes>"
      ]
     },
     "metadata": {
      "needs_background": "light"
     },
     "output_type": "display_data"
    },
    {
     "name": "stdout",
     "output_type": "stream",
     "text": [
      "auc test 0.9208531746031745\n",
      "test accuracy 0.841776110068793\n"
     ]
    }
   ],
   "source": [
    "#Randomforest = RandomForestClassifier(**gridCV.best_params_, class_weight = 'balanced')\n",
    "Randomforest = RandomForestClassifier(max_depth = 7,min_samples_split = 4,  class_weight = 'balanced')\n",
    "\n",
    "Randomforest.fit( X_train,y_train)\n",
    "y_pred_train,y_pred_train_proba,y_pred_test,y_pred_test_proba = pred_and_pred_proba(Randomforest, X_train,X_test,y_train,y_test)\n",
    "roc_and_acc(y_pred_train,y_pred_train_proba,y_pred_test,y_pred_test_proba,y_train,y_test)"
   ]
  },
  {
   "cell_type": "code",
   "execution_count": 291,
   "metadata": {},
   "outputs": [
    {
     "data": {
      "image/png": "[encoded data removed]",
      "text/plain": [
       "<Figure size 432x288 with 1 Axes>"
      ]
     },
     "metadata": {
      "needs_background": "light"
     },
     "output_type": "display_data"
    }
   ],
   "source": [
    "confusion_matrix(y_train,y_pred_train)\n",
    "fig, ax = plot_confusion_matrix(conf_mat=confusion_matrix(y_train,y_pred_train))\n",
    "plt.show()"
   ]
  },
  {
   "cell_type": "code",
   "execution_count": 292,
   "metadata": {},
   "outputs": [
    {
     "data": {
      "image/png": "[encoded data removed]",
      "text/plain": [
       "<Figure size 432x288 with 1 Axes>"
      ]
     },
     "metadata": {
      "needs_background": "light"
     },
     "output_type": "display_data"
    }
   ],
   "source": [
    "confusion_matrix(y_test,y_pred_test)\n",
    "fig, ax = plot_confusion_matrix(conf_mat=confusion_matrix(y_test,y_pred_test))\n",
    "plt.show()"
   ]
  },
  {
   "cell_type": "markdown",
   "metadata": {},
   "source": [
    "## Interaction between the features"
   ]
  },
  {
   "cell_type": "code",
   "execution_count": 293,
   "metadata": {},
   "outputs": [
    {
     "data": {
      "text/plain": [
       "array([[0, 1],\n",
       "       [2, 3],\n",
       "       [4, 5]])"
      ]
     },
     "execution_count": 293,
     "metadata": {},
     "output_type": "execute_result"
    }
   ],
   "source": [
    "from sklearn.preprocessing import PolynomialFeatures\n",
    "#https://scikit-learn.org/stable/modules/generated/sklearn.preprocessing.PolynomialFeatures.html\n",
    "X = np.arange(6).reshape(3, 2)\n",
    "X"
   ]
  },
  {
   "cell_type": "code",
   "execution_count": 294,
   "metadata": {},
   "outputs": [
    {
     "data": {
      "text/plain": [
       "array([[ 1.,  0.,  1.,  0.],\n",
       "       [ 1.,  2.,  3.,  6.],\n",
       "       [ 1.,  4.,  5., 20.]])"
      ]
     },
     "execution_count": 294,
     "metadata": {},
     "output_type": "execute_result"
    }
   ],
   "source": [
    "poly = PolynomialFeatures(2,interaction_only= True)\n",
    "poly.fit_transform(X)"
   ]
  },
  {
   "cell_type": "code",
   "execution_count": 295,
   "metadata": {},
   "outputs": [
    {
     "data": {
      "text/plain": [
       "array([[1., 0., 1.],\n",
       "       [1., 2., 3.],\n",
       "       [1., 4., 5.]])"
      ]
     },
     "execution_count": 295,
     "metadata": {},
     "output_type": "execute_result"
    }
   ],
   "source": [
    "\n",
    "poly = PolynomialFeatures(1)\n",
    "poly.fit_transform(X)\n"
   ]
  },
  {
   "cell_type": "code",
   "execution_count": 296,
   "metadata": {},
   "outputs": [
    {
     "data": {
      "text/plain": [
       "array([[ 1.,  0.,  1.,  0.,  0.,  1.],\n",
       "       [ 1.,  2.,  3.,  4.,  6.,  9.],\n",
       "       [ 1.,  4.,  5., 16., 20., 25.]])"
      ]
     },
     "execution_count": 296,
     "metadata": {},
     "output_type": "execute_result"
    }
   ],
   "source": [
    "\n",
    "poly = PolynomialFeatures(2)\n",
    "poly.fit_transform(X)"
   ]
  }
 ],
 "metadata": {
  "colab": {
   "name": "simple_ML_logit_random contingency of all features",
   "provenance": []
  },
  "kernelspec": {
   "display_name": "Python 3",
   "language": "python",
   "name": "python3"
  },
  "language_info": {
   "codemirror_mode": {
    "name": "ipython",
    "version": 3
   },
   "file_extension": ".py",
   "mimetype": "text/x-python",
   "name": "python",
   "nbconvert_exporter": "python",
   "pygments_lexer": "ipython3",
   "version": "3.7.4"
  }
 },
 "nbformat": 4,
 "nbformat_minor": 1
}