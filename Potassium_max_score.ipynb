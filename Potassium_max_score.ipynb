{
 "cells": [
  {
   "cell_type": "code",
   "execution_count": 29,
   "metadata": {},
   "outputs": [],
   "source": [
    "import sqlite3\n",
    "import matplotlib\n",
    "import pandas as pd\n",
    "import seaborn as sns\n",
    "import numpy as np\n",
    "import matplotlib.pyplot as plt\n",
    "import utility as util\n",
    "from mlxtend.plotting import plot_confusion_matrix\n",
    "from sklearn.metrics import confusion_matrix, f1_score\n"
   ]
  },
  {
   "cell_type": "code",
   "execution_count": 30,
   "metadata": {},
   "outputs": [],
   "source": [
    "neo_lab_first_day = pd.read_csv('neo_lab_first_day.csv')"
   ]
  },
  {
   "cell_type": "code",
   "execution_count": 31,
   "metadata": {},
   "outputs": [
    {
     "data": {
      "text/plain": [
       "Index(['subject_id', 'hadm_id', 'icustay_id', 'ANIONGAP_min', 'ANIONGAP_max',\n",
       "       'ALBUMIN_min', 'ALBUMIN_max', 'BANDS_min', 'BANDS_max',\n",
       "       'BICARBONATE_min', 'BICARBONATE_max', 'BILIRUBIN_min', 'BILIRUBIN_max',\n",
       "       'CREATININE_min', 'CREATININE_max', 'CHLORIDE_min', 'CHLORIDE_max',\n",
       "       'GLUCOSE_min', 'GLUCOSE_max', 'HEMATOCRIT_min', 'HEMATOCRIT_max',\n",
       "       'HEMOGLOBIN_min', 'HEMOGLOBIN_max', 'LACTATE_min', 'LACTATE_max',\n",
       "       'PLATELET_min', 'PLATELET_max', 'POTASSIUM_min', 'POTASSIUM_max',\n",
       "       'PTT_min', 'PTT_max', 'INR_min', 'INR_max', 'PT_min', 'PT_max',\n",
       "       'SODIUM_min', 'SODIUM_max', 'BUN_min', 'BUN_max', 'WBC_min', 'WBC_max',\n",
       "       'HADM_ID', 'Unnamed: 0', 'SUBJECT_ID', '30readflag'],\n",
       "      dtype='object')"
      ]
     },
     "execution_count": 31,
     "metadata": {},
     "output_type": "execute_result"
    }
   ],
   "source": [
    "neo_lab_first_day.columns"
   ]
  },
  {
   "cell_type": "code",
   "execution_count": 32,
   "metadata": {},
   "outputs": [
    {
     "data": {
      "text/plain": [
       "264.0    53\n",
       "290.0    49\n",
       "295.0    46\n",
       "253.0    42\n",
       "318.0    42\n",
       "         ..\n",
       "545.0     1\n",
       "528.0     1\n",
       "127.0     1\n",
       "507.0     1\n",
       "518.0     1\n",
       "Name: PLATELET_min, Length: 513, dtype: int64"
      ]
     },
     "execution_count": 32,
     "metadata": {},
     "output_type": "execute_result"
    }
   ],
   "source": [
    "neo_lab_first_day['PLATELET_min'].value_counts()"
   ]
  },
  {
   "cell_type": "code",
   "execution_count": 33,
   "metadata": {},
   "outputs": [
    {
     "data": {
      "text/plain": [
       "5.3     117\n",
       "4.9     117\n",
       "5.2     112\n",
       "5.8     110\n",
       "5.5     108\n",
       "       ... \n",
       "9.8       2\n",
       "2.5       1\n",
       "3.2       1\n",
       "12.5      1\n",
       "9.7       1\n",
       "Name: POTASSIUM_max, Length: 70, dtype: int64"
      ]
     },
     "execution_count": 33,
     "metadata": {},
     "output_type": "execute_result"
    }
   ],
   "source": [
    "neo_bloog_gas_all_time_dropna = neo_lab_first_day.dropna(axis= 1, how = 'all')\n",
    "pco2_score = neo_bloog_gas_all_time_dropna['POTASSIUM_max']\n",
    "pco2_score.value_counts()"
   ]
  },
  {
   "cell_type": "code",
   "execution_count": 34,
   "metadata": {},
   "outputs": [
    {
     "name": "stderr",
     "output_type": "stream",
     "text": [
      "C:\\Users\\USER\\Anaconda3\\lib\\site-packages\\ipykernel_launcher.py:2: RuntimeWarning: invalid value encountered in greater\n",
      "  \n",
      "C:\\Users\\USER\\Anaconda3\\lib\\site-packages\\ipykernel_launcher.py:2: SettingWithCopyWarning: \n",
      "A value is trying to be set on a copy of a slice from a DataFrame\n",
      "\n",
      "See the caveats in the documentation: http://pandas.pydata.org/pandas-docs/stable/user_guide/indexing.html#returning-a-view-versus-a-copy\n",
      "  \n",
      "C:\\Users\\USER\\Anaconda3\\lib\\site-packages\\ipykernel_launcher.py:3: SettingWithCopyWarning: \n",
      "A value is trying to be set on a copy of a slice from a DataFrame\n",
      "\n",
      "See the caveats in the documentation: http://pandas.pydata.org/pandas-docs/stable/user_guide/indexing.html#returning-a-view-versus-a-copy\n",
      "  This is separate from the ipykernel package so we can avoid doing imports until\n",
      "C:\\Users\\USER\\Anaconda3\\lib\\site-packages\\ipykernel_launcher.py:4: SettingWithCopyWarning: \n",
      "A value is trying to be set on a copy of a slice from a DataFrame\n",
      "\n",
      "See the caveats in the documentation: http://pandas.pydata.org/pandas-docs/stable/user_guide/indexing.html#returning-a-view-versus-a-copy\n",
      "  after removing the cwd from sys.path.\n"
     ]
    }
   ],
   "source": [
    "pco2_score2 = pco2_score\n",
    "pco2_score[(pco2_score2.values>9)]  = 5\n",
    "pco2_score[(pco2_score2<7)] = 1\n",
    "pco2_score[(pco2_score2>=7) & (pco2_score2<=9)] = 3\n",
    "#pco2_score[np.isnan(pco2_score2)] = 1"
   ]
  },
  {
   "cell_type": "code",
   "execution_count": 35,
   "metadata": {},
   "outputs": [],
   "source": [
    "pco2_score = pco2_score.fillna(1)"
   ]
  },
  {
   "cell_type": "code",
   "execution_count": 36,
   "metadata": {},
   "outputs": [],
   "source": [
    "neo_bloog_gas_all_time_dropna['potassium_max_score'] = pco2_score"
   ]
  },
  {
   "cell_type": "code",
   "execution_count": 40,
   "metadata": {},
   "outputs": [
    {
     "data": {
      "text/html": [
       "<div>\n",
       "<style scoped>\n",
       "    .dataframe tbody tr th:only-of-type {\n",
       "        vertical-align: middle;\n",
       "    }\n",
       "\n",
       "    .dataframe tbody tr th {\n",
       "        vertical-align: top;\n",
       "    }\n",
       "\n",
       "    .dataframe thead th {\n",
       "        text-align: right;\n",
       "    }\n",
       "</style>\n",
       "<table border=\"1\" class=\"dataframe\">\n",
       "  <thead>\n",
       "    <tr style=\"text-align: right;\">\n",
       "      <th></th>\n",
       "      <th>Unnamed: 0</th>\n",
       "      <th>sum_los</th>\n",
       "      <th>HADM_ID</th>\n",
       "      <th>los_bin</th>\n",
       "      <th>potassium_max_score</th>\n",
       "    </tr>\n",
       "  </thead>\n",
       "  <tbody>\n",
       "    <tr>\n",
       "      <td>0</td>\n",
       "      <td>0</td>\n",
       "      <td>0.3638</td>\n",
       "      <td>100023</td>\n",
       "      <td>0</td>\n",
       "      <td>1.0</td>\n",
       "    </tr>\n",
       "    <tr>\n",
       "      <td>1</td>\n",
       "      <td>1</td>\n",
       "      <td>3.0070</td>\n",
       "      <td>100025</td>\n",
       "      <td>0</td>\n",
       "      <td>1.0</td>\n",
       "    </tr>\n",
       "    <tr>\n",
       "      <td>2</td>\n",
       "      <td>2</td>\n",
       "      <td>30.5118</td>\n",
       "      <td>100029</td>\n",
       "      <td>1</td>\n",
       "      <td>1.0</td>\n",
       "    </tr>\n",
       "    <tr>\n",
       "      <td>3</td>\n",
       "      <td>3</td>\n",
       "      <td>65.7146</td>\n",
       "      <td>100044</td>\n",
       "      <td>1</td>\n",
       "      <td>1.0</td>\n",
       "    </tr>\n",
       "    <tr>\n",
       "      <td>4</td>\n",
       "      <td>4</td>\n",
       "      <td>3.9160</td>\n",
       "      <td>100055</td>\n",
       "      <td>0</td>\n",
       "      <td>1.0</td>\n",
       "    </tr>\n",
       "    <tr>\n",
       "      <td>...</td>\n",
       "      <td>...</td>\n",
       "      <td>...</td>\n",
       "      <td>...</td>\n",
       "      <td>...</td>\n",
       "      <td>...</td>\n",
       "    </tr>\n",
       "    <tr>\n",
       "      <td>7969</td>\n",
       "      <td>7987</td>\n",
       "      <td>48.2892</td>\n",
       "      <td>199913</td>\n",
       "      <td>1</td>\n",
       "      <td>1.0</td>\n",
       "    </tr>\n",
       "    <tr>\n",
       "      <td>7970</td>\n",
       "      <td>7988</td>\n",
       "      <td>19.3016</td>\n",
       "      <td>199917</td>\n",
       "      <td>0</td>\n",
       "      <td>1.0</td>\n",
       "    </tr>\n",
       "    <tr>\n",
       "      <td>7971</td>\n",
       "      <td>7989</td>\n",
       "      <td>103.9422</td>\n",
       "      <td>199918</td>\n",
       "      <td>1</td>\n",
       "      <td>1.0</td>\n",
       "    </tr>\n",
       "    <tr>\n",
       "      <td>7972</td>\n",
       "      <td>7990</td>\n",
       "      <td>0.1066</td>\n",
       "      <td>199954</td>\n",
       "      <td>0</td>\n",
       "      <td>1.0</td>\n",
       "    </tr>\n",
       "    <tr>\n",
       "      <td>7973</td>\n",
       "      <td>7991</td>\n",
       "      <td>0.9354</td>\n",
       "      <td>199973</td>\n",
       "      <td>0</td>\n",
       "      <td>1.0</td>\n",
       "    </tr>\n",
       "  </tbody>\n",
       "</table>\n",
       "<p>7974 rows × 5 columns</p>\n",
       "</div>"
      ],
      "text/plain": [
       "      Unnamed: 0   sum_los  HADM_ID  los_bin  potassium_max_score\n",
       "0              0    0.3638   100023        0                  1.0\n",
       "1              1    3.0070   100025        0                  1.0\n",
       "2              2   30.5118   100029        1                  1.0\n",
       "3              3   65.7146   100044        1                  1.0\n",
       "4              4    3.9160   100055        0                  1.0\n",
       "...          ...       ...      ...      ...                  ...\n",
       "7969        7987   48.2892   199913        1                  1.0\n",
       "7970        7988   19.3016   199917        0                  1.0\n",
       "7971        7989  103.9422   199918        1                  1.0\n",
       "7972        7990    0.1066   199954        0                  1.0\n",
       "7973        7991    0.9354   199973        0                  1.0\n",
       "\n",
       "[7974 rows x 5 columns]"
      ]
     },
     "execution_count": 40,
     "metadata": {},
     "output_type": "execute_result"
    }
   ],
   "source": [
    "neo_basic_label_df_feature_SNAP = pd.read_csv('neo_los_basic_df.csv')\n",
    "sub = pd.DataFrame(neo_bloog_gas_all_time_dropna[['potassium_max_score','HADM_ID']])\n",
    "neo_basic_label_df_feature_SNAP = util.merge(neo_basic_label_df_feature_SNAP,sub, 'inner','HADM_ID')\n",
    "neo_basic_label_df_feature_SNAP.to_csv('potassium_max_score.csv',index = False)\n",
    "neo_bloog_gas_all_time_dropna =neo_basic_label_df_feature_SNAP\n",
    "neo_bloog_gas_all_time_dropna"
   ]
  },
  {
   "cell_type": "code",
   "execution_count": 41,
   "metadata": {},
   "outputs": [],
   "source": [
    "cm00 = np.sum((neo_bloog_gas_all_time_dropna['los_bin']==0)& (neo_bloog_gas_all_time_dropna['potassium_max_score']<=1))\n",
    "cm00\n",
    "cm01 = np.sum((neo_bloog_gas_all_time_dropna['los_bin']==0)&(neo_bloog_gas_all_time_dropna['potassium_max_score']>1))\n",
    "cm00\n",
    "cm10 = np.sum((neo_bloog_gas_all_time_dropna['los_bin']==1)&(neo_bloog_gas_all_time_dropna['potassium_max_score']<=1))\n",
    "cm10\n",
    "cm11 = np.sum((neo_bloog_gas_all_time_dropna['los_bin']==1)&(neo_bloog_gas_all_time_dropna['potassium_max_score']>1))\n",
    "cm11\n",
    "\n",
    "cm = np.array([[cm00,cm01],[cm10,cm11]])"
   ]
  },
  {
   "cell_type": "code",
   "execution_count": 42,
   "metadata": {},
   "outputs": [
    {
     "data": {
      "text/html": [
       "<div>\n",
       "<style scoped>\n",
       "    .dataframe tbody tr th:only-of-type {\n",
       "        vertical-align: middle;\n",
       "    }\n",
       "\n",
       "    .dataframe tbody tr th {\n",
       "        vertical-align: top;\n",
       "    }\n",
       "\n",
       "    .dataframe thead th {\n",
       "        text-align: right;\n",
       "    }\n",
       "</style>\n",
       "<table border=\"1\" class=\"dataframe\">\n",
       "  <thead>\n",
       "    <tr style=\"text-align: right;\">\n",
       "      <th></th>\n",
       "      <th>Unnamed: 0</th>\n",
       "      <th>sum_los</th>\n",
       "      <th>HADM_ID</th>\n",
       "      <th>los_bin</th>\n",
       "      <th>potassium_max_score</th>\n",
       "    </tr>\n",
       "  </thead>\n",
       "  <tbody>\n",
       "    <tr>\n",
       "      <td>0</td>\n",
       "      <td>0</td>\n",
       "      <td>0.3638</td>\n",
       "      <td>100023</td>\n",
       "      <td>0</td>\n",
       "      <td>1.0</td>\n",
       "    </tr>\n",
       "    <tr>\n",
       "      <td>1</td>\n",
       "      <td>1</td>\n",
       "      <td>3.0070</td>\n",
       "      <td>100025</td>\n",
       "      <td>0</td>\n",
       "      <td>1.0</td>\n",
       "    </tr>\n",
       "    <tr>\n",
       "      <td>2</td>\n",
       "      <td>2</td>\n",
       "      <td>30.5118</td>\n",
       "      <td>100029</td>\n",
       "      <td>1</td>\n",
       "      <td>1.0</td>\n",
       "    </tr>\n",
       "    <tr>\n",
       "      <td>3</td>\n",
       "      <td>3</td>\n",
       "      <td>65.7146</td>\n",
       "      <td>100044</td>\n",
       "      <td>1</td>\n",
       "      <td>1.0</td>\n",
       "    </tr>\n",
       "    <tr>\n",
       "      <td>4</td>\n",
       "      <td>4</td>\n",
       "      <td>3.9160</td>\n",
       "      <td>100055</td>\n",
       "      <td>0</td>\n",
       "      <td>1.0</td>\n",
       "    </tr>\n",
       "    <tr>\n",
       "      <td>...</td>\n",
       "      <td>...</td>\n",
       "      <td>...</td>\n",
       "      <td>...</td>\n",
       "      <td>...</td>\n",
       "      <td>...</td>\n",
       "    </tr>\n",
       "    <tr>\n",
       "      <td>7969</td>\n",
       "      <td>7987</td>\n",
       "      <td>48.2892</td>\n",
       "      <td>199913</td>\n",
       "      <td>1</td>\n",
       "      <td>1.0</td>\n",
       "    </tr>\n",
       "    <tr>\n",
       "      <td>7970</td>\n",
       "      <td>7988</td>\n",
       "      <td>19.3016</td>\n",
       "      <td>199917</td>\n",
       "      <td>0</td>\n",
       "      <td>1.0</td>\n",
       "    </tr>\n",
       "    <tr>\n",
       "      <td>7971</td>\n",
       "      <td>7989</td>\n",
       "      <td>103.9422</td>\n",
       "      <td>199918</td>\n",
       "      <td>1</td>\n",
       "      <td>1.0</td>\n",
       "    </tr>\n",
       "    <tr>\n",
       "      <td>7972</td>\n",
       "      <td>7990</td>\n",
       "      <td>0.1066</td>\n",
       "      <td>199954</td>\n",
       "      <td>0</td>\n",
       "      <td>1.0</td>\n",
       "    </tr>\n",
       "    <tr>\n",
       "      <td>7973</td>\n",
       "      <td>7991</td>\n",
       "      <td>0.9354</td>\n",
       "      <td>199973</td>\n",
       "      <td>0</td>\n",
       "      <td>1.0</td>\n",
       "    </tr>\n",
       "  </tbody>\n",
       "</table>\n",
       "<p>7974 rows × 5 columns</p>\n",
       "</div>"
      ],
      "text/plain": [
       "      Unnamed: 0   sum_los  HADM_ID  los_bin  potassium_max_score\n",
       "0              0    0.3638   100023        0                  1.0\n",
       "1              1    3.0070   100025        0                  1.0\n",
       "2              2   30.5118   100029        1                  1.0\n",
       "3              3   65.7146   100044        1                  1.0\n",
       "4              4    3.9160   100055        0                  1.0\n",
       "...          ...       ...      ...      ...                  ...\n",
       "7969        7987   48.2892   199913        1                  1.0\n",
       "7970        7988   19.3016   199917        0                  1.0\n",
       "7971        7989  103.9422   199918        1                  1.0\n",
       "7972        7990    0.1066   199954        0                  1.0\n",
       "7973        7991    0.9354   199973        0                  1.0\n",
       "\n",
       "[7974 rows x 5 columns]"
      ]
     },
     "execution_count": 42,
     "metadata": {},
     "output_type": "execute_result"
    }
   ],
   "source": [
    "neo_basic_label_df_feature_SNAP"
   ]
  },
  {
   "cell_type": "code",
   "execution_count": 43,
   "metadata": {},
   "outputs": [
    {
     "name": "stdout",
     "output_type": "stream",
     "text": [
      "[[5942   62]\n",
      " [1758  212]]\n",
      "0.010326449033977348\n",
      "0.10761421319796954\n"
     ]
    }
   ],
   "source": [
    "print(cm)\n",
    "print(cm01/(cm00+cm01))\n",
    "print(cm11/(cm10+cm11))\n"
   ]
  },
  {
   "cell_type": "code",
   "execution_count": 44,
   "metadata": {},
   "outputs": [
    {
     "name": "stdout",
     "output_type": "stream",
     "text": [
      "6004.0\n",
      "chi 423.11487969631577\n",
      "pval 5.122261588011322e-94\n"
     ]
    },
    {
     "data": {
      "text/plain": [
       "(423.11487969631577, 5.122261588011322e-94)"
      ]
     },
     "execution_count": 44,
     "metadata": {},
     "output_type": "execute_result"
    }
   ],
   "source": [
    "util.chi2(cm)"
   ]
  }
 ],
 "metadata": {
  "kernelspec": {
   "display_name": "Python 3",
   "language": "python",
   "name": "python3"
  },
  "language_info": {
   "codemirror_mode": {
    "name": "ipython",
    "version": 3
   },
   "file_extension": ".py",
   "mimetype": "text/x-python",
   "name": "python",
   "nbconvert_exporter": "python",
   "pygments_lexer": "ipython3",
   "version": "3.7.4"
  }
 },
 "nbformat": 4,
 "nbformat_minor": 2
}