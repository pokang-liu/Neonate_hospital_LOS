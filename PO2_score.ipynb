{
 "cells": [
  {
   "cell_type": "code",
   "execution_count": 25,
   "metadata": {},
   "outputs": [],
   "source": [
    "import sqlite3\n",
    "import matplotlib\n",
    "import pandas as pd\n",
    "import seaborn as sns\n",
    "import numpy as np\n",
    "import matplotlib.pyplot as plt\n",
    "import utility as util\n",
    "from mlxtend.plotting import plot_confusion_matrix\n",
    "from sklearn.metrics import confusion_matrix, f1_score\n"
   ]
  },
  {
   "cell_type": "code",
   "execution_count": 26,
   "metadata": {},
   "outputs": [],
   "source": [
    "neo_bloog_gas_all_time = pd.read_csv('neo_bloog_gas_all_time.csv')"
   ]
  },
  {
   "cell_type": "code",
   "execution_count": 27,
   "metadata": {},
   "outputs": [
    {
     "data": {
      "text/plain": [
       "Index(['subject_id', 'hadm_id', 'icustay_id', 'charttime', 'SPECIMEN', 'AADO2',\n",
       "       'BASEEXCESS', 'BICARBONATE', 'TOTALCO2', 'CARBOXYHEMOGLOBIN',\n",
       "       'CHLORIDE', 'CALCIUM', 'GLUCOSE', 'HEMATOCRIT', 'HEMOGLOBIN',\n",
       "       'INTUBATED', 'LACTATE', 'METHEMOGLOBIN', 'O2FLOW', 'FIO2', 'SO2',\n",
       "       'PCO2', 'PEEP', 'PH', 'PO2', 'POTASSIUM', 'REQUIREDO2', 'SODIUM',\n",
       "       'TEMPERATURE', 'TIDALVOLUME', 'VENTILATIONRATE', 'VENTILATOR',\n",
       "       'HADM_ID', 'Unnamed: 0', 'SUBJECT_ID', '30readflag'],\n",
       "      dtype='object')"
      ]
     },
     "execution_count": 27,
     "metadata": {},
     "output_type": "execute_result"
    }
   ],
   "source": [
    "neo_bloog_gas_all_time.columns"
   ]
  },
  {
   "cell_type": "code",
   "execution_count": 28,
   "metadata": {},
   "outputs": [
    {
     "data": {
      "text/plain": [
       "44.0     56\n",
       "47.0     42\n",
       "41.0     42\n",
       "43.0     40\n",
       "48.0     38\n",
       "         ..\n",
       "232.0     1\n",
       "212.0     1\n",
       "200.0     1\n",
       "19.0      1\n",
       "274.0     1\n",
       "Name: PO2, Length: 263, dtype: int64"
      ]
     },
     "execution_count": 28,
     "metadata": {},
     "output_type": "execute_result"
    }
   ],
   "source": [
    "neo_bloog_gas_all_time_dropna = neo_bloog_gas_all_time.dropna(axis= 1, how = 'all')\n",
    "pco2_score = neo_bloog_gas_all_time.dropna(axis= 1, how = 'all')['PO2']\n",
    "pco2_score.value_counts()"
   ]
  },
  {
   "cell_type": "code",
   "execution_count": 29,
   "metadata": {},
   "outputs": [
    {
     "name": "stderr",
     "output_type": "stream",
     "text": [
      "C:\\Users\\USER\\Anaconda3\\lib\\site-packages\\ipykernel_launcher.py:2: RuntimeWarning: invalid value encountered in less\n",
      "  \n",
      "C:\\Users\\USER\\Anaconda3\\lib\\site-packages\\ipykernel_launcher.py:3: SettingWithCopyWarning: \n",
      "A value is trying to be set on a copy of a slice from a DataFrame\n",
      "\n",
      "See the caveats in the documentation: http://pandas.pydata.org/pandas-docs/stable/user_guide/indexing.html#returning-a-view-versus-a-copy\n",
      "  This is separate from the ipykernel package so we can avoid doing imports until\n",
      "C:\\Users\\USER\\Anaconda3\\lib\\site-packages\\ipykernel_launcher.py:4: SettingWithCopyWarning: \n",
      "A value is trying to be set on a copy of a slice from a DataFrame\n",
      "\n",
      "See the caveats in the documentation: http://pandas.pydata.org/pandas-docs/stable/user_guide/indexing.html#returning-a-view-versus-a-copy\n",
      "  after removing the cwd from sys.path.\n"
     ]
    }
   ],
   "source": [
    "pco2_score2 = pco2_score\n",
    "pco2_score[(pco2_score2.values<50)]  = 3\n",
    "pco2_score[(pco2_score2>=50) & (pco2_score2<= 65)] = 1\n",
    "pco2_score[(pco2_score2>65)] = 3\n",
    "#pco2_score[(pco2_score2>=30) & (pco2_score2<=50)] = 3\n",
    "#pco2_score[np.isnan(pco2_score2)] = 1"
   ]
  },
  {
   "cell_type": "code",
   "execution_count": null,
   "metadata": {},
   "outputs": [],
   "source": []
  },
  {
   "cell_type": "code",
   "execution_count": 30,
   "metadata": {},
   "outputs": [],
   "source": [
    "pco2_score = pco2_score.fillna(1)"
   ]
  },
  {
   "cell_type": "code",
   "execution_count": 31,
   "metadata": {},
   "outputs": [
    {
     "name": "stderr",
     "output_type": "stream",
     "text": [
      "C:\\Users\\USER\\Anaconda3\\lib\\site-packages\\ipykernel_launcher.py:1: SettingWithCopyWarning: \n",
      "A value is trying to be set on a copy of a slice from a DataFrame.\n",
      "Try using .loc[row_indexer,col_indexer] = value instead\n",
      "\n",
      "See the caveats in the documentation: http://pandas.pydata.org/pandas-docs/stable/user_guide/indexing.html#returning-a-view-versus-a-copy\n",
      "  \"\"\"Entry point for launching an IPython kernel.\n"
     ]
    }
   ],
   "source": [
    "neo_bloog_gas_all_time_dropna['o2_score'] = pco2_score"
   ]
  },
  {
   "cell_type": "code",
   "execution_count": 32,
   "metadata": {},
   "outputs": [
    {
     "data": {
      "text/html": [
       "<div>\n",
       "<style scoped>\n",
       "    .dataframe tbody tr th:only-of-type {\n",
       "        vertical-align: middle;\n",
       "    }\n",
       "\n",
       "    .dataframe tbody tr th {\n",
       "        vertical-align: top;\n",
       "    }\n",
       "\n",
       "    .dataframe thead th {\n",
       "        text-align: right;\n",
       "    }\n",
       "</style>\n",
       "<table border=\"1\" class=\"dataframe\">\n",
       "  <thead>\n",
       "    <tr style=\"text-align: right;\">\n",
       "      <th></th>\n",
       "      <th>Unnamed: 0</th>\n",
       "      <th>sum_los</th>\n",
       "      <th>HADM_ID</th>\n",
       "      <th>los_bin</th>\n",
       "      <th>o2_score</th>\n",
       "    </tr>\n",
       "  </thead>\n",
       "  <tbody>\n",
       "    <tr>\n",
       "      <td>0</td>\n",
       "      <td>0</td>\n",
       "      <td>0.3638</td>\n",
       "      <td>100023</td>\n",
       "      <td>0</td>\n",
       "      <td>1.0</td>\n",
       "    </tr>\n",
       "    <tr>\n",
       "      <td>1</td>\n",
       "      <td>1</td>\n",
       "      <td>3.0070</td>\n",
       "      <td>100025</td>\n",
       "      <td>0</td>\n",
       "      <td>1.0</td>\n",
       "    </tr>\n",
       "    <tr>\n",
       "      <td>2</td>\n",
       "      <td>2</td>\n",
       "      <td>30.5118</td>\n",
       "      <td>100029</td>\n",
       "      <td>1</td>\n",
       "      <td>1.0</td>\n",
       "    </tr>\n",
       "    <tr>\n",
       "      <td>3</td>\n",
       "      <td>3</td>\n",
       "      <td>65.7146</td>\n",
       "      <td>100044</td>\n",
       "      <td>1</td>\n",
       "      <td>3.0</td>\n",
       "    </tr>\n",
       "    <tr>\n",
       "      <td>4</td>\n",
       "      <td>4</td>\n",
       "      <td>3.9160</td>\n",
       "      <td>100055</td>\n",
       "      <td>0</td>\n",
       "      <td>3.0</td>\n",
       "    </tr>\n",
       "    <tr>\n",
       "      <td>...</td>\n",
       "      <td>...</td>\n",
       "      <td>...</td>\n",
       "      <td>...</td>\n",
       "      <td>...</td>\n",
       "      <td>...</td>\n",
       "    </tr>\n",
       "    <tr>\n",
       "      <td>7969</td>\n",
       "      <td>7987</td>\n",
       "      <td>48.2892</td>\n",
       "      <td>199913</td>\n",
       "      <td>1</td>\n",
       "      <td>3.0</td>\n",
       "    </tr>\n",
       "    <tr>\n",
       "      <td>7970</td>\n",
       "      <td>7988</td>\n",
       "      <td>19.3016</td>\n",
       "      <td>199917</td>\n",
       "      <td>0</td>\n",
       "      <td>3.0</td>\n",
       "    </tr>\n",
       "    <tr>\n",
       "      <td>7971</td>\n",
       "      <td>7989</td>\n",
       "      <td>103.9422</td>\n",
       "      <td>199918</td>\n",
       "      <td>1</td>\n",
       "      <td>3.0</td>\n",
       "    </tr>\n",
       "    <tr>\n",
       "      <td>7972</td>\n",
       "      <td>7990</td>\n",
       "      <td>0.1066</td>\n",
       "      <td>199954</td>\n",
       "      <td>0</td>\n",
       "      <td>1.0</td>\n",
       "    </tr>\n",
       "    <tr>\n",
       "      <td>7973</td>\n",
       "      <td>7991</td>\n",
       "      <td>0.9354</td>\n",
       "      <td>199973</td>\n",
       "      <td>0</td>\n",
       "      <td>1.0</td>\n",
       "    </tr>\n",
       "  </tbody>\n",
       "</table>\n",
       "<p>7974 rows × 5 columns</p>\n",
       "</div>"
      ],
      "text/plain": [
       "      Unnamed: 0   sum_los  HADM_ID  los_bin  o2_score\n",
       "0              0    0.3638   100023        0       1.0\n",
       "1              1    3.0070   100025        0       1.0\n",
       "2              2   30.5118   100029        1       1.0\n",
       "3              3   65.7146   100044        1       3.0\n",
       "4              4    3.9160   100055        0       3.0\n",
       "...          ...       ...      ...      ...       ...\n",
       "7969        7987   48.2892   199913        1       3.0\n",
       "7970        7988   19.3016   199917        0       3.0\n",
       "7971        7989  103.9422   199918        1       3.0\n",
       "7972        7990    0.1066   199954        0       1.0\n",
       "7973        7991    0.9354   199973        0       1.0\n",
       "\n",
       "[7974 rows x 5 columns]"
      ]
     },
     "execution_count": 32,
     "metadata": {},
     "output_type": "execute_result"
    }
   ],
   "source": [
    "neo_basic_label_df_feature_SNAP = pd.read_csv('neo_los_basic_df.csv')\n",
    "sub = pd.DataFrame(neo_bloog_gas_all_time_dropna[['o2_score','HADM_ID']])\n",
    "neo_basic_label_df_feature_SNAP = util.merge(neo_basic_label_df_feature_SNAP,sub, 'inner','HADM_ID')\n",
    "neo_basic_label_df_feature_SNAP.to_csv('o2_score.csv',index = False)\n",
    "neo_basic_label_df_feature_SNAP"
   ]
  },
  {
   "cell_type": "code",
   "execution_count": 33,
   "metadata": {},
   "outputs": [],
   "source": [
    "cm00 = np.sum((neo_basic_label_df_feature_SNAP['los_bin']==0)& (neo_basic_label_df_feature_SNAP['o2_score']<=1))\n",
    "cm00\n",
    "cm01 = np.sum((neo_basic_label_df_feature_SNAP['los_bin']==0)&(neo_basic_label_df_feature_SNAP['o2_score']>1))\n",
    "cm00\n",
    "cm10 = np.sum((neo_basic_label_df_feature_SNAP['los_bin']==1)&(neo_basic_label_df_feature_SNAP['o2_score']<=1))\n",
    "cm10\n",
    "cm11 = np.sum((neo_basic_label_df_feature_SNAP['los_bin']==1)&(neo_basic_label_df_feature_SNAP['o2_score']>1))\n",
    "cm11\n",
    "\n",
    "cm = np.array([[cm00,cm01],[cm10,cm11]])"
   ]
  },
  {
   "cell_type": "code",
   "execution_count": 34,
   "metadata": {},
   "outputs": [
    {
     "name": "stdout",
     "output_type": "stream",
     "text": [
      "6004.0\n",
      "7974.0\n",
      "[[4746.57837973 1257.42162027]\n",
      " [1557.42162027  412.57837973]]\n",
      "chi 1685.7004726396872\n",
      "pval 0.0\n"
     ]
    },
    {
     "data": {
      "text/plain": [
       "(1685.7004726396872, 0.0)"
      ]
     },
     "execution_count": 34,
     "metadata": {},
     "output_type": "execute_result"
    }
   ],
   "source": [
    "util.chi2(cm)"
   ]
  },
  {
   "cell_type": "code",
   "execution_count": 35,
   "metadata": {},
   "outputs": [
    {
     "data": {
      "text/plain": [
       "0.07075053790659411"
      ]
     },
     "execution_count": 35,
     "metadata": {},
     "output_type": "execute_result"
    }
   ],
   "source": [
    "559/(7302+599)"
   ]
  },
  {
   "cell_type": "code",
   "execution_count": 36,
   "metadata": {},
   "outputs": [
    {
     "data": {
      "text/plain": [
       "0.048458149779735685"
      ]
     },
     "execution_count": 36,
     "metadata": {},
     "output_type": "execute_result"
    }
   ],
   "source": [
    "11/(216+11)"
   ]
  }
 ],
 "metadata": {
  "kernelspec": {
   "display_name": "Python 3",
   "language": "python",
   "name": "python3"
  },
  "language_info": {
   "codemirror_mode": {
    "name": "ipython",
    "version": 3
   },
   "file_extension": ".py",
   "mimetype": "text/x-python",
   "name": "python",
   "nbconvert_exporter": "python",
   "pygments_lexer": "ipython3",
   "version": "3.7.4"
  }
 },
 "nbformat": 4,
 "nbformat_minor": 2
}